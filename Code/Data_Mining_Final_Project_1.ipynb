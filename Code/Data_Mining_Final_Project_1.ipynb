{
  "nbformat": 4,
  "nbformat_minor": 0,
  "metadata": {
    "colab": {
      "provenance": [],
      "gpuType": "T4"
    },
    "kernelspec": {
      "name": "python3",
      "display_name": "Python 3"
    },
    "language_info": {
      "name": "python"
    },
    "accelerator": "GPU"
  },
  "cells": [
    {
      "cell_type": "code",
      "execution_count": null,
      "metadata": {
        "colab": {
          "base_uri": "https://localhost:8080/"
        },
        "id": "AuaYuTarlEWb",
        "outputId": "6a8d7f16-b12b-4f70-d224-28c0ba197e6e"
      },
      "outputs": [
        {
          "output_type": "stream",
          "name": "stdout",
          "text": [
            "Mounted at /content/drive\n"
          ]
        }
      ],
      "source": [
        "from google.colab import drive\n",
        "drive.mount('/content/drive')"
      ]
    },
    {
      "cell_type": "code",
      "source": [
        "import pandas as pd\n",
        "import numpy as np\n",
        "import matplotlib.pyplot as plt\n",
        "import seaborn as sns"
      ],
      "metadata": {
        "id": "a-yGnaGIlXEa"
      },
      "execution_count": null,
      "outputs": []
    },
    {
      "cell_type": "code",
      "source": [
        "# Load the data\n",
        "games = pd.read_csv(\"/content/drive/MyDrive/Steam Game Dataset/games.csv\")\n",
        "recommendations = pd.read_csv(\"/content/drive/MyDrive/Steam Game Dataset/recommendations.csv\", usecols=[\"app_id\", \"user_id\", \"is_recommended\"], dtype={\"app_id\": \"int32\", \"user_id\": \"int32\", \"is_recommended\": \"bool\"})\n",
        "users = pd.read_csv(\"/content/drive/MyDrive/Steam Game Dataset/users.csv\", dtype={\"user_id\": \"int32\", \"products\": \"int16\", \"reviews\": \"int16\"})\n",
        "\n",
        "# Check loaded data\n",
        "print(\"Games Shape:\", games.shape)\n",
        "print(\"Recommendations Shape (Full):\", recommendations.shape)\n",
        "print(\"Users Shape:\", users.shape)"
      ],
      "metadata": {
        "colab": {
          "base_uri": "https://localhost:8080/"
        },
        "id": "abUzM5GHlhR1",
        "outputId": "f5d61f66-384f-4c3b-997b-702a651177ff"
      },
      "execution_count": null,
      "outputs": [
        {
          "output_type": "stream",
          "name": "stdout",
          "text": [
            "Games Shape: (50872, 13)\n",
            "Recommendations Shape (Full): (41154794, 3)\n",
            "Users Shape: (14306064, 3)\n"
          ]
        }
      ]
    },
    {
      "cell_type": "code",
      "source": [
        "def optimize_memory(df):\n",
        "    for col in df.select_dtypes(include=[\"int\", \"float\"]).columns:\n",
        "        df[col] = pd.to_numeric(df[col], downcast=\"integer\" if df[col].dtype == \"int\" else \"float\")\n",
        "    for col in df.select_dtypes(include=[\"object\"]).columns:\n",
        "        df[col] = df[col].astype(\"category\")\n",
        "    return df\n",
        "\n",
        "# Optimize all datasets\n",
        "games = optimize_memory(games)\n",
        "recommendations = optimize_memory(recommendations)\n",
        "users = optimize_memory(users)\n",
        "\n",
        "# Check memory usage\n",
        "print(\"Games Memory Usage (MB):\", games.memory_usage(deep=True).sum() / (1024**2))\n",
        "print(\"Recommendations Memory Usage (MB):\", recommendations.memory_usage(deep=True).sum() / (1024**2))\n",
        "print(\"Users Memory Usage (MB):\", users.memory_usage(deep=True).sum() / (1024**2))"
      ],
      "metadata": {
        "colab": {
          "base_uri": "https://localhost:8080/"
        },
        "id": "5CUHZnYkGHlp",
        "outputId": "7072ab6a-58b3-4925-a067-8a4123e5367b"
      },
      "execution_count": null,
      "outputs": [
        {
          "output_type": "stream",
          "name": "stdout",
          "text": [
            "Games Memory Usage (MB): 8.11091423034668\n",
            "Recommendations Memory Usage (MB): 353.23455238342285\n",
            "Users Memory Usage (MB): 109.146728515625\n"
          ]
        }
      ]
    },
    {
      "cell_type": "code",
      "source": [
        "# Sample 10% of recommendations and users\n",
        "sampled_recommendations = recommendations.sample(frac=0.1, random_state=42)\n",
        "sampled_users = users.sample(frac=0.1, random_state=42)\n",
        "\n",
        "# Check sampled data\n",
        "print(\"Sampled Recommendations Shape:\", sampled_recommendations.shape)\n",
        "print(\"Sampled Users Shape:\", sampled_users.shape)"
      ],
      "metadata": {
        "colab": {
          "base_uri": "https://localhost:8080/"
        },
        "id": "ErEcR_-YGHyK",
        "outputId": "afa238c4-10fd-4624-a377-c05f5cee4056"
      },
      "execution_count": null,
      "outputs": [
        {
          "output_type": "stream",
          "name": "stdout",
          "text": [
            "Sampled Recommendations Shape: (4115479, 3)\n",
            "Sampled Users Shape: (1430606, 3)\n"
          ]
        }
      ]
    },
    {
      "cell_type": "code",
      "source": [
        "# Merge games and sampled recommendations on app_id\n",
        "games_recommendations = pd.merge(sampled_recommendations, games, on=\"app_id\", how=\"inner\")\n",
        "\n",
        "# Merge the resulting DataFrame with sampled users on user_id\n",
        "merged_data = pd.merge(games_recommendations, sampled_users, on=\"user_id\", how=\"inner\")\n",
        "\n",
        "# Display merged data info\n",
        "print(\"Merged Data Shape:\", merged_data.shape)\n",
        "print(merged_data.head())"
      ],
      "metadata": {
        "colab": {
          "base_uri": "https://localhost:8080/"
        },
        "id": "pEONeBHkGH5J",
        "outputId": "30ac556d-2971-4bfb-8404-7834619366ae"
      },
      "execution_count": null,
      "outputs": [
        {
          "output_type": "stream",
          "name": "stdout",
          "text": [
            "Merged Data Shape: (411465, 17)\n",
            "     app_id  is_recommended     user_id                     title  \\\n",
            "0  601150.0            True   6991933.0           Devil May Cry 5   \n",
            "1     400.0            True  11264359.0                    Portal   \n",
            "2  870780.0           False  11757719.0  Control Ultimate Edition   \n",
            "3  552100.0            True  14248104.0                Brick Rigs   \n",
            "4   49520.0            True   5719610.0             Borderlands 2   \n",
            "\n",
            "  date_release   win    mac  linux                   rating  positive_ratio  \\\n",
            "0   2019-03-07  True  False  False  Overwhelmingly Positive              95   \n",
            "1   2007-10-10  True   True   True  Overwhelmingly Positive              98   \n",
            "2   2020-08-27  True  False  False            Very Positive              88   \n",
            "3   2023-07-14  True  False  False            Very Positive              93   \n",
            "4   2012-09-17  True   True   True  Overwhelmingly Positive              95   \n",
            "\n",
            "   user_reviews  price_final  price_original  discount  steam_deck  products  \\\n",
            "0         71034        30.00        0.000000       0.0        True       402   \n",
            "1        117868        10.00        0.000000       0.0        True       403   \n",
            "2         28339         9.99       39.990002      75.0        True        72   \n",
            "3         31911        19.00        0.000000       0.0        True        22   \n",
            "4        184041        20.00        0.000000       0.0        True        39   \n",
            "\n",
            "   reviews  \n",
            "0       63  \n",
            "1       13  \n",
            "2       17  \n",
            "3        2  \n",
            "4        1  \n"
          ]
        }
      ]
    },
    {
      "cell_type": "code",
      "source": [
        "# Save merged data to CSV\n",
        "merged_data.to_csv(\"merged_data_sampled.csv\", index=False)\n",
        "print(\"Merged dataset saved!\")"
      ],
      "metadata": {
        "id": "pCi1cx37GzZ5",
        "colab": {
          "base_uri": "https://localhost:8080/"
        },
        "outputId": "81e3cb87-836d-48ff-c268-ec48f4610903"
      },
      "execution_count": null,
      "outputs": [
        {
          "output_type": "stream",
          "name": "stdout",
          "text": [
            "Merged dataset saved!\n"
          ]
        }
      ]
    }
  ]
}